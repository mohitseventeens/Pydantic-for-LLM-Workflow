{
  "nbformat": 4,
  "nbformat_minor": 0,
  "metadata": {
    "colab": {
      "provenance": [],
      "authorship_tag": "ABX9TyPLYRBBj8N6OtqjlUX02vUT",
      "include_colab_link": true
    },
    "kernelspec": {
      "name": "python3",
      "display_name": "Python 3"
    },
    "language_info": {
      "name": "python"
    }
  },
  "cells": [
    {
      "cell_type": "markdown",
      "metadata": {
        "id": "view-in-github",
        "colab_type": "text"
      },
      "source": [
        "<a href=\"https://colab.research.google.com/github/mohitseventeens/Pydantic-for-LLM-Workflow/blob/main/Pydantic_for_LLM_Application.ipynb\" target=\"_parent\"><img src=\"https://colab.research.google.com/assets/colab-badge.svg\" alt=\"Open In Colab\"/></a>"
      ]
    },
    {
      "cell_type": "markdown",
      "source": [
        "# 📓 Pydantic for LLM Workflows: Course Notes\n",
        "\n",
        "**Author:** Mohit Sonkamble <br>\n",
        "**Date:** August 27, 2025"
      ],
      "metadata": {
        "id": "lhH24ffY9187"
      }
    },
    {
      "cell_type": "markdown",
      "source": [
        "## 📝 Course Structure & Table of Contents\n",
        "\n",
        "This course is divided into several key modules. Click the links below to navigate to the relevant section.\n",
        "\n",
        "*   **Part 1: [Welcome and Introduction](#part1)**\n",
        "    *   Welcome to Pydantic for LLM Workflows (Video - 3 mins)\n",
        "    *   Introduction to Pydantic for LLM Workflows (Video - 10 mins)\n",
        "\n",
        "*   **Part 2: [Pydantic Fundamentals](#part2)**\n",
        "    *   Pydantic model basics (Video with Code Example - 13 mins)\n",
        "\n",
        "*   **Part 3: [LLM Response Handling](#part3)**\n",
        "    *   Validating LLM responses (Video with Code Example - 15 mins)\n",
        "    *   Passing a Pydantic model in your API call (Video with Code Example - 9 mins)\n",
        "\n",
        "*   **Part 4: [Advanced Applications](#part4)**\n",
        "    *   Tool calling (Video with Code Example - 19 mins)\n",
        "\n",
        "*   **Part 5: [Conclusion](#part5)**\n",
        "    *   Conclusion (Video - 1 min)"
      ],
      "metadata": {
        "id": "O8uFShDU-L0w"
      }
    },
    {
      "cell_type": "code",
      "execution_count": 3,
      "metadata": {
        "colab": {
          "base_uri": "https://localhost:8080/"
        },
        "id": "h1kUF1yl9ysG",
        "outputId": "ed8d2893-5b73-4837-b489-9271f835195b"
      },
      "outputs": [
        {
          "output_type": "stream",
          "name": "stdout",
          "text": [
            "\u001b[?25l   \u001b[90m━━━━━━━━━━━━━━━━━━━━━━━━━━━━━━━━━━━━━━━━\u001b[0m \u001b[32m0.0/313.6 kB\u001b[0m \u001b[31m?\u001b[0m eta \u001b[36m-:--:--\u001b[0m\r\u001b[2K   \u001b[90m━━━━━━━━━━━━━━━━━━━━━━━━━━━━━━━━━━━━━━━━\u001b[0m \u001b[32m313.6/313.6 kB\u001b[0m \u001b[31m9.2 MB/s\u001b[0m eta \u001b[36m0:00:00\u001b[0m\n",
            "\u001b[?25h✅ All required libraries have been installed successfully!\n"
          ]
        }
      ],
      "source": [
        "# @title Install Required Libraries\n",
        "# It's good practice to run this cell first to ensure all dependencies are installed.\n",
        "\n",
        "%pip install -qU 'pydantic[email]'\n",
        "\n",
        "print(\"✅ All required libraries have been installed successfully!\")"
      ]
    },
    {
      "cell_type": "markdown",
      "source": [
        "---\n",
        "## <a id=\"part1\"></a>Part 1: Pydantic Fundamentals\n",
        "\n",
        "### **Welcome to Pydantic for LLM Workflows**\n",
        "\n",
        "#### Concept: LLMs in Software vs. Standalone Tasks\n",
        "\n",
        "1.  **Standalone Use:** Tasks like summarizing a document, translating text, or generating an essay. The output is consumed directly by a human, and slight variations in format are generally acceptable.\n",
        "2.  **Integrated Use (in a Software System):** Using an LLM as one component in a larger application. Here, the LLM's output must be predictable, structured, and reliable because it will be passed to another function, API, or database.\n",
        "\n",
        "#### Example: The Customer Service Chatbot Workflow\n",
        "\n",
        "The diagram below shows how different user queries are handled in an automated support system.\n",
        "\n",
        "<img src=\"https://raw.githubusercontent.com/mohitseventeens/Pydantic-for-LLM-Workflow/main/lesson1-customer-support-example.png\" width=\"600\">\n",
        "\n",
        "\n",
        "**Workflow Deconstruction:**\n",
        "\n",
        "*   **Simple Queries:** Some user issues, like *\"I forgot my password\"*, can be handled by simple, deterministic tools. A bot can recognize this intent and use a function like `lookup_faq_answer()` to provide a direct response (\"Here's a reset link!\").\n",
        "*   **Complex Queries:** More nuanced or emotional queries, like *\"I'm not happy with this product!\"*, are ambiguous and require deeper understanding. This is where the LLM is used.\n",
        "*   **The LLM's Critical Role (The \"Magic\"):** The LLM doesn't just generate a conversational reply. Its primary job here is to **structure the unstructured user input**. It processes the complaint and transforms it into a clean, predictable JSON object with predefined fields:\n",
        "    *   `name`, `email` (user info)\n",
        "    *   `query` (the original message)\n",
        "    *   `priority`, `category`, `is_complaint` (classifications)\n",
        "    *   `tags` (for routing and analysis)\n",
        "*   **System Integration:** This structured JSON data is then used to create a formal **Support Ticket**. This ticket can now be reliably processed by the rest of the software system—logged in a database, assigned to a human agent, and tracked.\n",
        "\n",
        "---\n",
        "\n",
        "### Key Takeaway & The Need for Pydantic\n",
        "\n",
        "The core challenge is ensuring the LLM *always* produces the correctly formatted JSON. If the LLM returns a key with a typo, uses a string instead of a boolean, or misses a field entirely, the downstream system (`Support Ticket` creation) will break.\n",
        "\n",
        "This is the problem Pydantic solves. It acts as a powerful validator and parser that guarantees the data flowing from the LLM into your system is **100% correct and conforms to the structure you define.**\n",
        "\n",
        "Pydantic isn't just a new, trendy library; it has been a trusted and popular tool for data validation in the Python ecosystem for a long time, making it a reliable choice for building robust applications."
      ],
      "metadata": {
        "id": "PgUE95okArft"
      }
    },
    {
      "cell_type": "markdown",
      "source": [
        "---\n",
        "### **Introduction to Pydantic for LLM Workflows**\n",
        "\n",
        "This lesson builds on the customer support example to introduce the common challenges of working with LLMs in software and how Pydantic provides elegant solutions.\n",
        "\n",
        "#### The Core Challenge: Unreliable LLM Outputs\n",
        "\n",
        "Even when you ask an LLM for a structured output like JSON, you can't guarantee its format. Common issues include:\n",
        "\n",
        "*   **Extraneous Text:** The LLM often wraps the JSON in conversational text, like *\"Here's the JSON you requested!\"*\n",
        "*   **Code Fences:** The JSON is frequently enclosed in Markdown triple backticks (```json ... ```).\n",
        "*   **Inconsistent Formatting:** The LLM might make mistakes like adding a trailing comma, using single quotes instead of double quotes, or generating a string where a number is expected.\n",
        "\n",
        "<img src=\"https://raw.githubusercontent.com/mohitseventeens/Pydantic-for-LLM-Workflow/main/lesson2-issues-LLM.png\" width=\"600\">\n",
        "\n",
        "These inconsistencies will cause a standard JSON parser to fail, breaking your application.\n",
        "\n",
        "#### Approach 1: Basic Prompting & Error Chaining\n",
        "\n",
        "The simplest method is to engineer a detailed prompt that includes an example of the desired JSON format.\n",
        "\n",
        "<img src=\"https://raw.githubusercontent.com/mohitseventeens/Pydantic-for-LLM-Workflow/main/lesson2-method1+pydantic.png\" width=\"600\">\n",
        "\n",
        "This workflow often involves a loop:\n",
        "1.  Send the detailed prompt to the LLM.\n",
        "2.  Try to parse the output.\n",
        "3.  If parsing fails, catch the error, include it in a new prompt, and ask the LLM to fix its own mistake.\n",
        "\n",
        "While this can work, it's brittle and relies on hope. A much more robust approach is to formalize the validation process with Pydantic.\n",
        "\n",
        "#### Approach 2: Robust Validation with Pydantic\n",
        "\n",
        "Pydantic provides a definitive schema for your data. Instead of just showing the LLM an example in a prompt, you define a strict structure in code.\n",
        "\n",
        "The Pydantic-powered workflow is as follows:\n",
        "1.  **Define a Schema:** You create a class inheriting from `pydantic.BaseModel`. This class defines every expected field, its data type (`str`, `bool`, `EmailStr`), and even allowed values (e.g., `Literal['refund_request', 'information_request']`).\n",
        "2.  **Prompt the LLM:** You can still use a similar prompt, but now your system has a ground truth for what the output *must* look like.\n",
        "3.  **Validate the Output:** The raw JSON string from the LLM is passed to a Pydantic method like `CustomerQuery.model_validate_json()`.\n",
        "4.  **Get Structured Data:**\n",
        "    *   **On Success:** Pydantic automatically cleans and parses the string into a valid Python object (`valid_data`). This object is guaranteed to have the correct structure and types, ready for the \"Next step in the system!\"\n",
        "    *   **On Failure:** Pydantic raises a detailed `ValidationError` that explains exactly what was wrong with the LLM's output.\n",
        "\n",
        "#### Advanced Use Case: Tool Calling\n",
        "\n",
        "Pydantic's utility extends beyond simple validation. It is the core technology that enables modern **Tool Calling** (also known as Function Calling).\n",
        "\n",
        "In this paradigm, the LLM acts as an intelligent router. It decides which of your application's functions (tools) to call based on the user's query.\n",
        "\n",
        "<img src=\"https://raw.githubusercontent.com/mohitseventeens/Pydantic-for-LLM-Workflow/main/lesson2-tool-calling.png\" width=\"600\">\n",
        "\n",
        "Here's how Pydantic enables this:\n",
        "1.  **Define Tool Arguments:** You use a Pydantic `BaseModel` (e.g., `FAQLookupArgs`) to define the exact arguments and their types that a function (e.g., `lookup_faq_answer`) requires.\n",
        "2.  **Provide Tool Definitions:** You provide the LLM with a list of available tools, using the Pydantic model's schema to describe the parameters for each tool.\n",
        "3.  **LLM Orchestration:** When a user asks a question like \"I forgot my password,\" the LLM recognizes that the `lookup_faq_answer` tool is the best fit. It then uses the provided schema to construct a valid JSON object containing the required arguments and asks your system to execute that function.\n",
        "\n",
        "This turns the LLM from a simple text generator into an orchestrator that can interact with your code in a structured and reliable way."
      ],
      "metadata": {
        "id": "RE9PqQoqJnwm"
      }
    },
    {
      "cell_type": "markdown",
      "source": [
        "# Pydantic Basics\n",
        "\n",
        "In this lesson, you'll learn the fundamentals of Pydantic models for data validation using a customer support system as your example application. You'll see how to define data models, validate user input, and handle validation errors gracefully.\n",
        "\n",
        "By the end of this lesson, you'll be able to:\n",
        "- Create Pydantic models to validate user input data\n",
        "- Handle validation errors with proper error handling\n",
        "- Use optional fields and field constraints in your models\n",
        "- Work with JSON data validation methods\n",
        "\n",
        "---"
      ],
      "metadata": {
        "id": "KAnpvB3WMGkx"
      }
    },
    {
      "cell_type": "code",
      "source": [
        "# Import libraries needed for the lesson\n",
        "from pydantic import BaseModel, ValidationError, EmailStr\n",
        "import json"
      ],
      "metadata": {
        "id": "LMjscC8A-ldP"
      },
      "execution_count": 1,
      "outputs": []
    },
    {
      "cell_type": "code",
      "source": [
        "# Create a Pydantic model for validating user input\n",
        "class UserInput(BaseModel):\n",
        "    name: str\n",
        "    email: EmailStr\n",
        "    query: str"
      ],
      "metadata": {
        "id": "JM8GaKdzBs8U"
      },
      "execution_count": 4,
      "outputs": []
    },
    {
      "cell_type": "code",
      "source": [
        "# Create a model instance\n",
        "user_input = UserInput(\n",
        "    name=\"Joe User\",\n",
        "    email=\"joe.user@example.com\",\n",
        "    query=\"I forgot my password.\"\n",
        ")\n",
        "print(user_input)"
      ],
      "metadata": {
        "colab": {
          "base_uri": "https://localhost:8080/"
        },
        "id": "HkAyB7tlMP9g",
        "outputId": "fa0cc8b4-eb68-472c-a70f-caf02dc7fa29"
      },
      "execution_count": 5,
      "outputs": [
        {
          "output_type": "stream",
          "name": "stdout",
          "text": [
            "name='Joe User' email='joe.user@example.com' query='I forgot my password.'\n"
          ]
        }
      ]
    },
    {
      "cell_type": "markdown",
      "source": [
        "Note: the following cell will produce a validation error."
      ],
      "metadata": {
        "id": "rdRhLj9qNkiW"
      }
    },
    {
      "cell_type": "code",
      "source": [
        "# Attempt to create another model instance with an invalid email\n",
        "user_input = UserInput(\n",
        "    name=\"Joe User\",\n",
        "    email=\"not-an-email\",\n",
        "    query=\"I forgot my password.\"\n",
        ")\n",
        "print(user_input)"
      ],
      "metadata": {
        "colab": {
          "base_uri": "https://localhost:8080/",
          "height": 367
        },
        "id": "mmLYjZCGNecO",
        "outputId": "5c9ed5db-82ef-4a92-d8db-80bce1479c02"
      },
      "execution_count": 6,
      "outputs": [
        {
          "output_type": "error",
          "ename": "ValidationError",
          "evalue": "1 validation error for UserInput\nemail\n  value is not a valid email address: An email address must have an @-sign. [type=value_error, input_value='not-an-email', input_type=str]",
          "traceback": [
            "\u001b[0;31m---------------------------------------------------------------------------\u001b[0m",
            "\u001b[0;31mValidationError\u001b[0m                           Traceback (most recent call last)",
            "\u001b[0;32m/tmp/ipython-input-1928287194.py\u001b[0m in \u001b[0;36m<cell line: 0>\u001b[0;34m()\u001b[0m\n\u001b[1;32m      1\u001b[0m \u001b[0;31m# Attempt to create another model instance with an invalid email\u001b[0m\u001b[0;34m\u001b[0m\u001b[0;34m\u001b[0m\u001b[0m\n\u001b[0;32m----> 2\u001b[0;31m user_input = UserInput(\n\u001b[0m\u001b[1;32m      3\u001b[0m     \u001b[0mname\u001b[0m\u001b[0;34m=\u001b[0m\u001b[0;34m\"Joe User\"\u001b[0m\u001b[0;34m,\u001b[0m\u001b[0;34m\u001b[0m\u001b[0;34m\u001b[0m\u001b[0m\n\u001b[1;32m      4\u001b[0m     \u001b[0memail\u001b[0m\u001b[0;34m=\u001b[0m\u001b[0;34m\"not-an-email\"\u001b[0m\u001b[0;34m,\u001b[0m\u001b[0;34m\u001b[0m\u001b[0;34m\u001b[0m\u001b[0m\n\u001b[1;32m      5\u001b[0m     \u001b[0mquery\u001b[0m\u001b[0;34m=\u001b[0m\u001b[0;34m\"I forgot my password.\"\u001b[0m\u001b[0;34m\u001b[0m\u001b[0;34m\u001b[0m\u001b[0m\n",
            "\u001b[0;32m/usr/local/lib/python3.12/dist-packages/pydantic/main.py\u001b[0m in \u001b[0;36m__init__\u001b[0;34m(self, **data)\u001b[0m\n\u001b[1;32m    251\u001b[0m         \u001b[0;31m# `__tracebackhide__` tells pytest and some other tools to omit this function from tracebacks\u001b[0m\u001b[0;34m\u001b[0m\u001b[0;34m\u001b[0m\u001b[0m\n\u001b[1;32m    252\u001b[0m         \u001b[0m__tracebackhide__\u001b[0m \u001b[0;34m=\u001b[0m \u001b[0;32mTrue\u001b[0m\u001b[0;34m\u001b[0m\u001b[0;34m\u001b[0m\u001b[0m\n\u001b[0;32m--> 253\u001b[0;31m         \u001b[0mvalidated_self\u001b[0m \u001b[0;34m=\u001b[0m \u001b[0mself\u001b[0m\u001b[0;34m.\u001b[0m\u001b[0m__pydantic_validator__\u001b[0m\u001b[0;34m.\u001b[0m\u001b[0mvalidate_python\u001b[0m\u001b[0;34m(\u001b[0m\u001b[0mdata\u001b[0m\u001b[0;34m,\u001b[0m \u001b[0mself_instance\u001b[0m\u001b[0;34m=\u001b[0m\u001b[0mself\u001b[0m\u001b[0;34m)\u001b[0m\u001b[0;34m\u001b[0m\u001b[0;34m\u001b[0m\u001b[0m\n\u001b[0m\u001b[1;32m    254\u001b[0m         \u001b[0;32mif\u001b[0m \u001b[0mself\u001b[0m \u001b[0;32mis\u001b[0m \u001b[0;32mnot\u001b[0m \u001b[0mvalidated_self\u001b[0m\u001b[0;34m:\u001b[0m\u001b[0;34m\u001b[0m\u001b[0;34m\u001b[0m\u001b[0m\n\u001b[1;32m    255\u001b[0m             warnings.warn(\n",
            "\u001b[0;31mValidationError\u001b[0m: 1 validation error for UserInput\nemail\n  value is not a valid email address: An email address must have an @-sign. [type=value_error, input_value='not-an-email', input_type=str]"
          ]
        }
      ]
    },
    {
      "cell_type": "code",
      "source": [
        "# Define a function to handle user input validation safely\n",
        "def validate_user_input(input_data):\n",
        "    try:\n",
        "        # Attempt to create a UserInput model instance from user input data\n",
        "        user_input = UserInput(**input_data)\n",
        "        print(f\"✅ Valid user input created:\")\n",
        "        print(f\"{user_input.model_dump_json(indent=2)}\")\n",
        "        return user_input\n",
        "    except ValidationError as e:\n",
        "        # Capture and display validation errors in a readable format\n",
        "        print(f\"❌ Validation error occurred:\")\n",
        "        for error in e.errors():\n",
        "            print(f\"  - {error['loc'][0]}: {error['msg']}\")\n",
        "        return None"
      ],
      "metadata": {
        "id": "DbhKRel8NiaO"
      },
      "execution_count": 7,
      "outputs": []
    },
    {
      "cell_type": "code",
      "source": [
        "# Create an instance of UserInput using validate_user_input() function\n",
        "input_data = {\n",
        "    \"name\": \"Joe User\",\n",
        "    \"email\": \"joe.user@example.com\",\n",
        "    \"query\": \"I forgot my password.\"\n",
        "}\n",
        "\n",
        "user_input = validate_user_input(input_data)"
      ],
      "metadata": {
        "colab": {
          "base_uri": "https://localhost:8080/"
        },
        "id": "oHIVESk7N3aa",
        "outputId": "2dbc78a5-d97c-437f-d930-308500462f6e"
      },
      "execution_count": 8,
      "outputs": [
        {
          "output_type": "stream",
          "name": "stdout",
          "text": [
            "✅ Valid user input created:\n",
            "{\n",
            "  \"name\": \"Joe User\",\n",
            "  \"email\": \"joe.user@example.com\",\n",
            "  \"query\": \"I forgot my password.\"\n",
            "}\n"
          ]
        }
      ]
    },
    {
      "cell_type": "code",
      "source": [
        "# Attempt to create an instance of UserInput with missing query field\n",
        "input_data = {\n",
        "    \"name\": \"Joe User\",\n",
        "    \"email\": \"joe.user@example.com\"\n",
        "}\n",
        "\n",
        "user_input = validate_user_input(input_data)"
      ],
      "metadata": {
        "colab": {
          "base_uri": "https://localhost:8080/"
        },
        "id": "xUeMD56fN9TR",
        "outputId": "15188a26-473a-4c32-b98c-624226a42598"
      },
      "execution_count": 9,
      "outputs": [
        {
          "output_type": "stream",
          "name": "stdout",
          "text": [
            "❌ Validation error occurred:\n",
            "  - query: Field required\n"
          ]
        }
      ]
    },
    {
      "cell_type": "markdown",
      "source": [
        "Update your UserInput data model with additional fields and experiment with different input data"
      ],
      "metadata": {
        "id": "KNzokXxuOIxv"
      }
    },
    {
      "cell_type": "code",
      "source": [
        "# Import additional libraries for enhanced validation\n",
        "from pydantic import Field\n",
        "from typing import Optional\n",
        "from datetime import date\n",
        "\n",
        "# Define a new UserInput model with optional fields\n",
        "class UserInput(BaseModel):\n",
        "    name: str\n",
        "    email: EmailStr\n",
        "    query: str\n",
        "    order_id: Optional[int] = Field(\n",
        "        None,\n",
        "        description=\"5-digit order number (cannot start with 0)\",\n",
        "        ge=10000,\n",
        "        le=99999\n",
        "    )\n",
        "    purchase_date: Optional[date] = None"
      ],
      "metadata": {
        "id": "QT5pvboMOCpx"
      },
      "execution_count": 10,
      "outputs": []
    },
    {
      "cell_type": "code",
      "source": [
        "# Define a dictionary with required fields only\n",
        "input_data = {\n",
        "    \"name\": \"Joe User\",\n",
        "    \"email\": \"joe.user@example.com\",\n",
        "    \"query\": \"I forgot my password.\"\n",
        "}\n",
        "\n",
        "# Validate the user input data\n",
        "user_input = validate_user_input(input_data)"
      ],
      "metadata": {
        "colab": {
          "base_uri": "https://localhost:8080/"
        },
        "id": "SaG0RWZzON7g",
        "outputId": "c8d4fffd-0444-40b1-82da-7ddfde548733"
      },
      "execution_count": 11,
      "outputs": [
        {
          "output_type": "stream",
          "name": "stdout",
          "text": [
            "✅ Valid user input created:\n",
            "{\n",
            "  \"name\": \"Joe User\",\n",
            "  \"email\": \"joe.user@example.com\",\n",
            "  \"query\": \"I forgot my password.\",\n",
            "  \"order_id\": null,\n",
            "  \"purchase_date\": null\n",
            "}\n"
          ]
        }
      ]
    },
    {
      "cell_type": "code",
      "source": [],
      "metadata": {
        "id": "bQFczfRwOQbS"
      },
      "execution_count": null,
      "outputs": []
    }
  ]
}