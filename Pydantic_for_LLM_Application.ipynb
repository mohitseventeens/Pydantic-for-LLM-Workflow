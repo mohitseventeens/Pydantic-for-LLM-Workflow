{
  "nbformat": 4,
  "nbformat_minor": 0,
  "metadata": {
    "colab": {
      "provenance": [],
      "authorship_tag": "ABX9TyPdyxXQVMMroxhuv11Vbhib",
      "include_colab_link": true
    },
    "kernelspec": {
      "name": "python3",
      "display_name": "Python 3"
    },
    "language_info": {
      "name": "python"
    }
  },
  "cells": [
    {
      "cell_type": "markdown",
      "metadata": {
        "id": "view-in-github",
        "colab_type": "text"
      },
      "source": [
        "<a href=\"https://colab.research.google.com/github/mohitseventeens/Pydantic-for-LLM-Workflow/blob/main/Pydantic_for_LLM_Application.ipynb\" target=\"_parent\"><img src=\"https://colab.research.google.com/assets/colab-badge.svg\" alt=\"Open In Colab\"/></a>"
      ]
    },
    {
      "cell_type": "markdown",
      "source": [
        "# 📓 Pydantic for LLM Workflows: Course Notes\n",
        "\n",
        "**Author:** Mohit Sonkamble <br>\n",
        "**Date:** August 27, 2025"
      ],
      "metadata": {
        "id": "lhH24ffY9187"
      }
    },
    {
      "cell_type": "markdown",
      "source": [
        "## 📝 Course Structure & Table of Contents\n",
        "\n",
        "This course is divided into several key modules. Click the links below to navigate to the relevant section.\n",
        "\n",
        "*   **Part 1: [Welcome and Introduction](#part1)**\n",
        "    *   Welcome to Pydantic for LLM Workflows (Video - 3 mins)\n",
        "    *   Introduction to Pydantic for LLM Workflows (Video - 10 mins)\n",
        "\n",
        "*   **Part 2: [Pydantic Fundamentals](#part2)**\n",
        "    *   Pydantic model basics (Video with Code Example - 13 mins)\n",
        "\n",
        "*   **Part 3: [LLM Response Handling](#part3)**\n",
        "    *   Validating LLM responses (Video with Code Example - 15 mins)\n",
        "    *   Passing a Pydantic model in your API call (Video with Code Example - 9 mins)\n",
        "\n",
        "*   **Part 4: [Advanced Applications](#part4)**\n",
        "    *   Tool calling (Video with Code Example - 19 mins)\n",
        "\n",
        "*   **Part 5: [Conclusion](#part5)**\n",
        "    *   Conclusion (Video - 1 min)"
      ],
      "metadata": {
        "id": "O8uFShDU-L0w"
      }
    },
    {
      "cell_type": "code",
      "execution_count": 3,
      "metadata": {
        "colab": {
          "base_uri": "https://localhost:8080/"
        },
        "id": "h1kUF1yl9ysG",
        "outputId": "ed8d2893-5b73-4837-b489-9271f835195b"
      },
      "outputs": [
        {
          "output_type": "stream",
          "name": "stdout",
          "text": [
            "\u001b[?25l   \u001b[90m━━━━━━━━━━━━━━━━━━━━━━━━━━━━━━━━━━━━━━━━\u001b[0m \u001b[32m0.0/313.6 kB\u001b[0m \u001b[31m?\u001b[0m eta \u001b[36m-:--:--\u001b[0m\r\u001b[2K   \u001b[90m━━━━━━━━━━━━━━━━━━━━━━━━━━━━━━━━━━━━━━━━\u001b[0m \u001b[32m313.6/313.6 kB\u001b[0m \u001b[31m9.2 MB/s\u001b[0m eta \u001b[36m0:00:00\u001b[0m\n",
            "\u001b[?25h✅ All required libraries have been installed successfully!\n"
          ]
        }
      ],
      "source": [
        "# @title Install Required Libraries\n",
        "# It's good practice to run this cell first to ensure all dependencies are installed.\n",
        "\n",
        "%pip install -qU 'pydantic[email]'\n",
        "\n",
        "print(\"✅ All required libraries have been installed successfully!\")"
      ]
    },
    {
      "cell_type": "markdown",
      "source": [
        "---\n",
        "## <a id=\"part1\"></a>Part 1: Pydantic Fundamentals\n",
        "\n",
        "### **Welcome to Pydantic for LLM Workflows**\n",
        "\n",
        "#### Concept: LLMs in Software vs. Standalone Tasks\n",
        "\n",
        "1.  **Standalone Use:** Tasks like summarizing a document, translating text, or generating an essay. The output is consumed directly by a human, and slight variations in format are generally acceptable.\n",
        "2.  **Integrated Use (in a Software System):** Using an LLM as one component in a larger application. Here, the LLM's output must be predictable, structured, and reliable because it will be passed to another function, API, or database.\n",
        "\n",
        "#### Example: The Customer Service Chatbot Workflow\n",
        "\n",
        "The diagram below shows how different user queries are handled in an automated support system.\n",
        "\n",
        "<img src=\"https://raw.githubusercontent.com/mohitseventeens/Pydantic-for-LLM-Workflow/main/lesson1-customer-support-example.png\" width=\"600\">\n",
        "\n",
        "\n",
        "**Workflow Deconstruction:**\n",
        "\n",
        "*   **Simple Queries:** Some user issues, like *\"I forgot my password\"*, can be handled by simple, deterministic tools. A bot can recognize this intent and use a function like `lookup_faq_answer()` to provide a direct response (\"Here's a reset link!\").\n",
        "*   **Complex Queries:** More nuanced or emotional queries, like *\"I'm not happy with this product!\"*, are ambiguous and require deeper understanding. This is where the LLM is used.\n",
        "*   **The LLM's Critical Role (The \"Magic\"):** The LLM doesn't just generate a conversational reply. Its primary job here is to **structure the unstructured user input**. It processes the complaint and transforms it into a clean, predictable JSON object with predefined fields:\n",
        "    *   `name`, `email` (user info)\n",
        "    *   `query` (the original message)\n",
        "    *   `priority`, `category`, `is_complaint` (classifications)\n",
        "    *   `tags` (for routing and analysis)\n",
        "*   **System Integration:** This structured JSON data is then used to create a formal **Support Ticket**. This ticket can now be reliably processed by the rest of the software system—logged in a database, assigned to a human agent, and tracked.\n",
        "\n",
        "---\n",
        "\n",
        "### Key Takeaway & The Need for Pydantic\n",
        "\n",
        "The core challenge is ensuring the LLM *always* produces the correctly formatted JSON. If the LLM returns a key with a typo, uses a string instead of a boolean, or misses a field entirely, the downstream system (`Support Ticket` creation) will break.\n",
        "\n",
        "This is the problem Pydantic solves. It acts as a powerful validator and parser that guarantees the data flowing from the LLM into your system is **100% correct and conforms to the structure you define.**\n",
        "\n",
        "Pydantic isn't just a new, trendy library; it has been a trusted and popular tool for data validation in the Python ecosystem for a long time, making it a reliable choice for building robust applications."
      ],
      "metadata": {
        "id": "PgUE95okArft"
      }
    },
    {
      "cell_type": "markdown",
      "source": [
        "---\n",
        "### **Introduction to Pydantic for LLM Workflows**\n",
        "\n",
        "This lesson builds on the customer support example to introduce the common challenges of working with LLMs in software and how Pydantic provides elegant solutions.\n",
        "\n",
        "#### The Core Challenge: Unreliable LLM Outputs\n",
        "\n",
        "Even when you ask an LLM for a structured output like JSON, you can't guarantee its format. Common issues include:\n",
        "\n",
        "*   **Extraneous Text:** The LLM often wraps the JSON in conversational text, like *\"Here's the JSON you requested!\"*\n",
        "*   **Code Fences:** The JSON is frequently enclosed in Markdown triple backticks (```json ... ```).\n",
        "*   **Inconsistent Formatting:** The LLM might make mistakes like adding a trailing comma, using single quotes instead of double quotes, or generating a string where a number is expected.\n",
        "\n",
        "<img src=\"https://raw.githubusercontent.com/mohitseventeens/Pydantic-for-LLM-Workflow/main/lesson2-issues-LLM.png\" width=\"600\">\n",
        "\n",
        "These inconsistencies will cause a standard JSON parser to fail, breaking your application.\n",
        "\n",
        "#### Approach 1: Basic Prompting & Error Chaining\n",
        "\n",
        "The simplest method is to engineer a detailed prompt that includes an example of the desired JSON format.\n",
        "\n",
        "<img src=\"https://raw.githubusercontent.com/mohitseventeens/Pydantic-for-LLM-Workflow/main/lesson2-method1+pydantic.png\" width=\"600\">\n",
        "\n",
        "This workflow often involves a loop:\n",
        "1.  Send the detailed prompt to the LLM.\n",
        "2.  Try to parse the output.\n",
        "3.  If parsing fails, catch the error, include it in a new prompt, and ask the LLM to fix its own mistake.\n",
        "\n",
        "While this can work, it's brittle and relies on hope. A much more robust approach is to formalize the validation process with Pydantic.\n",
        "\n",
        "#### Approach 2: Robust Validation with Pydantic\n",
        "\n",
        "Pydantic provides a definitive schema for your data. Instead of just showing the LLM an example in a prompt, you define a strict structure in code.\n",
        "\n",
        "The Pydantic-powered workflow is as follows:\n",
        "1.  **Define a Schema:** You create a class inheriting from `pydantic.BaseModel`. This class defines every expected field, its data type (`str`, `bool`, `EmailStr`), and even allowed values (e.g., `Literal['refund_request', 'information_request']`).\n",
        "2.  **Prompt the LLM:** You can still use a similar prompt, but now your system has a ground truth for what the output *must* look like.\n",
        "3.  **Validate the Output:** The raw JSON string from the LLM is passed to a Pydantic method like `CustomerQuery.model_validate_json()`.\n",
        "4.  **Get Structured Data:**\n",
        "    *   **On Success:** Pydantic automatically cleans and parses the string into a valid Python object (`valid_data`). This object is guaranteed to have the correct structure and types, ready for the \"Next step in the system!\"\n",
        "    *   **On Failure:** Pydantic raises a detailed `ValidationError` that explains exactly what was wrong with the LLM's output.\n",
        "\n",
        "#### Advanced Use Case: Tool Calling\n",
        "\n",
        "Pydantic's utility extends beyond simple validation. It is the core technology that enables modern **Tool Calling** (also known as Function Calling).\n",
        "\n",
        "In this paradigm, the LLM acts as an intelligent router. It decides which of your application's functions (tools) to call based on the user's query.\n",
        "\n",
        "<img src=\"https://raw.githubusercontent.com/mohitseventeens/Pydantic-for-LLM-Workflow/main/lesson2-tool-calling.png\" width=\"600\">\n",
        "\n",
        "Here's how Pydantic enables this:\n",
        "1.  **Define Tool Arguments:** You use a Pydantic `BaseModel` (e.g., `FAQLookupArgs`) to define the exact arguments and their types that a function (e.g., `lookup_faq_answer`) requires.\n",
        "2.  **Provide Tool Definitions:** You provide the LLM with a list of available tools, using the Pydantic model's schema to describe the parameters for each tool.\n",
        "3.  **LLM Orchestration:** When a user asks a question like \"I forgot my password,\" the LLM recognizes that the `lookup_faq_answer` tool is the best fit. It then uses the provided schema to construct a valid JSON object containing the required arguments and asks your system to execute that function.\n",
        "\n",
        "This turns the LLM from a simple text generator into an orchestrator that can interact with your code in a structured and reliable way."
      ],
      "metadata": {
        "id": "RE9PqQoqJnwm"
      }
    },
    {
      "cell_type": "markdown",
      "source": [
        "---\n",
        "## <a id=\"part2\"></a>Part 2: Pydantic Model Basics\n",
        "\n",
        "In this lesson, we'll learn the fundamentals of Pydantic models for data validation. We'll see how to define data models, validate user input, and handle validation errors gracefully using the customer support example.\n",
        "\n",
        "By the end of this lesson, we'll be able to:\n",
        "- Create Pydantic models to validate user input data.\n",
        "- Handle validation errors with proper `try...except` blocks.\n",
        "- Use optional fields and field constraints in your models.\n",
        "- Work with JSON data validation methods."
      ],
      "metadata": {
        "id": "oUSJPLyla3Au"
      }
    },
    {
      "cell_type": "markdown",
      "source": [
        "### 1. Setup\n",
        "\n",
        "First, let's import the necessary libraries. `BaseModel` is the core component we'll inherit from, and `ValidationError` is the exception Pydantic raises."
      ],
      "metadata": {
        "id": "GiAHsam4cEWV"
      }
    },
    {
      "cell_type": "code",
      "source": [
        "# Import libraries needed for the lesson\n",
        "from pydantic import BaseModel, ValidationError, EmailStr, Field\n",
        "from typing import Optional\n",
        "from datetime import date\n",
        "import json"
      ],
      "metadata": {
        "id": "y_DSD9b-a654"
      },
      "execution_count": 12,
      "outputs": []
    },
    {
      "cell_type": "markdown",
      "source": [
        "### 2. Defining a Basic Model\n",
        "\n",
        "We start by defining a class that inherits from `BaseModel`. Each attribute is given a type hint (e.g., `name: str`). Pydantic uses these hints to enforce the data types. `EmailStr` is a special Pydantic type that validates if a string is a properly formatted email address."
      ],
      "metadata": {
        "id": "xpw3FrnrbDvP"
      }
    },
    {
      "cell_type": "code",
      "source": [
        "# Create a Pydantic model for validating user input\n",
        "class UserInput(BaseModel):\n",
        "    name: str\n",
        "    email: EmailStr\n",
        "    query: str\n",
        "\n",
        "# Create a model instance with valid data\n",
        "user_input = UserInput(\n",
        "    name=\"Joe User\",\n",
        "    email=\"joe.user@example.com\",\n",
        "    query=\"I forgot my password.\"\n",
        ")\n",
        "print(\"--- Successful Instantiation ---\")\n",
        "print(user_input)"
      ],
      "metadata": {
        "colab": {
          "base_uri": "https://localhost:8080/"
        },
        "id": "Xrs9t6AvbCMp",
        "outputId": "b0771d22-4f14-4053-cf1d-0d40c4a201d1"
      },
      "execution_count": 13,
      "outputs": [
        {
          "output_type": "stream",
          "name": "stdout",
          "text": [
            "--- Successful Instantiation ---\n",
            "name='Joe User' email='joe.user@example.com' query='I forgot my password.'\n"
          ]
        }
      ]
    },
    {
      "cell_type": "markdown",
      "source": [
        "If we provide data that doesn't match the required type, Pydantic will raise a `ValidationError`.\n",
        "\n",
        "**Note:** The following cell is expected to produce a `ValidationError` because the email address is invalid."
      ],
      "metadata": {
        "id": "s7TgXlg1bHSY"
      }
    },
    {
      "cell_type": "code",
      "source": [
        "# Attempt to create another model instance with an invalid email\n",
        "try:\n",
        "    user_input = UserInput(\n",
        "        name=\"Joe User\",\n",
        "        email=\"not-an-email\",\n",
        "        query=\"I forgot my password.\"\n",
        "    )\n",
        "    print(user_input)\n",
        "except ValidationError as e:\n",
        "    print(\"--- Expected Validation Error ---\")\n",
        "    print(e)"
      ],
      "metadata": {
        "colab": {
          "base_uri": "https://localhost:8080/"
        },
        "id": "GojSN9VHbF4G",
        "outputId": "238fb173-0635-470d-89d8-b504d660b764"
      },
      "execution_count": 14,
      "outputs": [
        {
          "output_type": "stream",
          "name": "stdout",
          "text": [
            "--- Expected Validation Error ---\n",
            "1 validation error for UserInput\n",
            "email\n",
            "  value is not a valid email address: An email address must have an @-sign. [type=value_error, input_value='not-an-email', input_type=str]\n"
          ]
        }
      ]
    },
    {
      "cell_type": "markdown",
      "source": [
        "### 3. Graceful Error Handling\n",
        "\n",
        "To prevent crashes, we should always wrap our validation logic in a `try...except` block. This function demonstrates how to catch a `ValidationError` and print a user-friendly summary of the errors."
      ],
      "metadata": {
        "id": "7XB6KwgobPwr"
      }
    },
    {
      "cell_type": "code",
      "source": [
        "# Define a function to handle user input validation safely\n",
        "def validate_user_input(input_data):\n",
        "    \"\"\"Validates user input data against the UserInput model.\"\"\"\n",
        "    try:\n",
        "        user_input = UserInput(**input_data)\n",
        "        print(\"✅ Valid user input created:\")\n",
        "        print(f\"{user_input.model_dump_json(indent=2)}\")\n",
        "        return user_input\n",
        "    except ValidationError as e:\n",
        "        print(\"❌ Validation error occurred:\")\n",
        "        for error in e.errors():\n",
        "            print(f\"  - Field '{error['loc'][0]}': {error['msg']}\")\n",
        "        return None\n",
        "\n",
        "# --- Example 1: Valid Data ---\n",
        "print(\"--- Testing with valid data ---\")\n",
        "valid_data = {\n",
        "    \"name\": \"Joe User\",\n",
        "    \"email\": \"joe.user@example.com\",\n",
        "    \"query\": \"I forgot my password.\"\n",
        "}\n",
        "validate_user_input(valid_data)\n",
        "\n",
        "print(\"\\n\" + \"=\"*50 + \"\\n\")\n",
        "\n",
        "# --- Example 2: Missing Required Field ---\n",
        "print(\"--- Testing with a missing field ---\")\n",
        "missing_field_data = {\n",
        "    \"name\": \"Joe User\",\n",
        "    \"email\": \"joe.user@example.com\"\n",
        "}\n",
        "validate_user_input(missing_field_data)"
      ],
      "metadata": {
        "colab": {
          "base_uri": "https://localhost:8080/"
        },
        "id": "Umg00HENbOUa",
        "outputId": "cf240c04-d331-4c09-c48d-fd308f2b10c1"
      },
      "execution_count": 16,
      "outputs": [
        {
          "output_type": "stream",
          "name": "stdout",
          "text": [
            "--- Testing with valid data ---\n",
            "✅ Valid user input created:\n",
            "{\n",
            "  \"name\": \"Joe User\",\n",
            "  \"email\": \"joe.user@example.com\",\n",
            "  \"query\": \"I forgot my password.\"\n",
            "}\n",
            "\n",
            "==================================================\n",
            "\n",
            "--- Testing with a missing field ---\n",
            "❌ Validation error occurred:\n",
            "  - Field 'query': Field required\n"
          ]
        }
      ]
    },
    {
      "cell_type": "markdown",
      "source": [
        "### 4. Enhancing the Model: Optional Fields & Constraints\n",
        "\n",
        "Pydantic models can be made more powerful using `Optional` types and `Field` for adding constraints.\n",
        "\n",
        "- **`Optional[type]`**: Marks a field as not required.\n",
        "- **`Field(default, description, ...)`**: Allows setting default values and validation rules like `ge` (greater than or equal) and `le` (less than or equal).\n",
        "\n",
        "Pydantic also performs **type coercion**: if data can be safely converted (e.g., a string `\"2025-12-31\"` to a `date` object, or `\"12345\"` to an `int`), Pydantic handles it automatically. By default, Pydantic ignores extra fields that are not defined in the model."
      ],
      "metadata": {
        "id": "f3ysORpxbWWH"
      }
    },
    {
      "cell_type": "code",
      "source": [
        "# Define a new, more advanced UserInput model\n",
        "class UserInput(BaseModel):\n",
        "    name: str\n",
        "    email: EmailStr\n",
        "    query: str\n",
        "    order_id: Optional[int] = Field(\n",
        "        None,\n",
        "        description=\"5-digit order number (cannot start with 0)\",\n",
        "        ge=10000,\n",
        "        le=99999\n",
        "    )\n",
        "    purchase_date: Optional[date] = None\n",
        "\n",
        "# --- Test 1: Only required fields ---\n",
        "print(\"--- Test 1: Only required fields ---\")\n",
        "input_data_1 = {\n",
        "    \"name\": \"Joe User\", \"email\": \"joe.user@example.com\", \"query\": \"I forgot my password.\"\n",
        "}\n",
        "validate_user_input(input_data_1)\n",
        "print(\"\\n\")\n",
        "\n",
        "# --- Test 2: All fields + extra fields (which are ignored) ---\n",
        "print(\"--- Test 2: All fields + extra fields ---\")\n",
        "input_data_2 = {\n",
        "    \"name\": \"Joe User\", \"email\": \"joe.user@example.com\",\n",
        "    \"query\": \"I need to return an item.\", \"order_id\": 12345,\n",
        "    \"purchase_date\": date(2025, 12, 31),\n",
        "    \"system_message\": \"This will be ignored\", \"iteration\": 1\n",
        "}\n",
        "validate_user_input(input_data_2)\n",
        "print(\"\\n\")\n",
        "\n",
        "# --- Test 3: Type coercion from string to date and int ---\n",
        "print(\"--- Test 3: Type Coercion ---\")\n",
        "input_data_3 = {\n",
        "    \"name\": \"Joe User\", \"email\": \"joe.user@example.com\",\n",
        "    \"query\": \"Overcharged for my order.\", \"order_id\": \"12345\",\n",
        "    \"purchase_date\": \"2025-12-31\"\n",
        "}\n",
        "validate_user_input(input_data_3)\n",
        "print(\"\\n\")\n",
        "\n",
        "# --- Test 4: Invalid type that cannot be coerced ---\n",
        "print(\"--- Test 4: Invalid Type ---\")\n",
        "input_data_4 = {\n",
        "    \"name\": 99999, \"email\": \"joe.user@example.com\",\n",
        "    \"query\": \"Wrong name type.\", \"order_id\": 12345, \"purchase_date\": \"2025-12-31\"\n",
        "}\n",
        "validate_user_input(input_data_4)"
      ],
      "metadata": {
        "colab": {
          "base_uri": "https://localhost:8080/"
        },
        "id": "DSrcAue2baNV",
        "outputId": "c97e5973-194f-44c5-e3e3-e360f93c7ee2"
      },
      "execution_count": 17,
      "outputs": [
        {
          "output_type": "stream",
          "name": "stdout",
          "text": [
            "--- Test 1: Only required fields ---\n",
            "✅ Valid user input created:\n",
            "{\n",
            "  \"name\": \"Joe User\",\n",
            "  \"email\": \"joe.user@example.com\",\n",
            "  \"query\": \"I forgot my password.\",\n",
            "  \"order_id\": null,\n",
            "  \"purchase_date\": null\n",
            "}\n",
            "\n",
            "\n",
            "--- Test 2: All fields + extra fields ---\n",
            "✅ Valid user input created:\n",
            "{\n",
            "  \"name\": \"Joe User\",\n",
            "  \"email\": \"joe.user@example.com\",\n",
            "  \"query\": \"I need to return an item.\",\n",
            "  \"order_id\": 12345,\n",
            "  \"purchase_date\": \"2025-12-31\"\n",
            "}\n",
            "\n",
            "\n",
            "--- Test 3: Type Coercion ---\n",
            "✅ Valid user input created:\n",
            "{\n",
            "  \"name\": \"Joe User\",\n",
            "  \"email\": \"joe.user@example.com\",\n",
            "  \"query\": \"Overcharged for my order.\",\n",
            "  \"order_id\": 12345,\n",
            "  \"purchase_date\": \"2025-12-31\"\n",
            "}\n",
            "\n",
            "\n",
            "--- Test 4: Invalid Type ---\n",
            "❌ Validation error occurred:\n",
            "  - Field 'name': Input should be a valid string\n"
          ]
        }
      ]
    },
    {
      "cell_type": "markdown",
      "source": [
        "### 5. Working with JSON Data\n",
        "\n",
        "A common use case is validating data that arrives as a JSON string. The standard way is to first parse the JSON into a Python dictionary using `json.loads()` and then pass the dictionary to our validation function.\n",
        "\n",
        "However, Pydantic provides a more direct and efficient method: `model_validate_json()`. This single command parses and validates the raw JSON string in one step."
      ],
      "metadata": {
        "id": "dYP3Dnx0beM4"
      }
    },
    {
      "cell_type": "code",
      "source": [
        "# Define user input as a valid JSON string\n",
        "json_data_valid = '''\n",
        "{\n",
        "    \"name\": \"Joe User\",\n",
        "    \"email\": \"joe.user@example.com\",\n",
        "    \"query\": \"I bought a keyboard and mouse and was overcharged.\",\n",
        "    \"order_id\": 12345,\n",
        "    \"purchase_date\": \"2025-12-31\"\n",
        "}\n",
        "'''\n",
        "\n",
        "# --- Method 1: json.loads + validate_user_input ---\n",
        "print(\"--- Method 1: json.loads() then validate ---\")\n",
        "input_data = json.loads(json_data_valid)\n",
        "user_input = validate_user_input(input_data)\n",
        "print(\"\\n\")\n",
        "\n",
        "\n",
        "# --- Method 2: model_validate_json ---\n",
        "print(\"--- Method 2: Using model_validate_json() ---\")\n",
        "try:\n",
        "    user_input = UserInput.model_validate_json(json_data_valid)\n",
        "    print(\"✅ Valid user input created directly from JSON:\")\n",
        "    print(user_input.model_dump_json(indent=2))\n",
        "except ValidationError as e:\n",
        "    print(f\"❌ Validation error: {e}\")"
      ],
      "metadata": {
        "colab": {
          "base_uri": "https://localhost:8080/"
        },
        "id": "WqS5FgovbbP9",
        "outputId": "faad2dc7-7056-4f5b-87b6-0778a0607aa9"
      },
      "execution_count": 18,
      "outputs": [
        {
          "output_type": "stream",
          "name": "stdout",
          "text": [
            "--- Method 1: json.loads() then validate ---\n",
            "✅ Valid user input created:\n",
            "{\n",
            "  \"name\": \"Joe User\",\n",
            "  \"email\": \"joe.user@example.com\",\n",
            "  \"query\": \"I bought a keyboard and mouse and was overcharged.\",\n",
            "  \"order_id\": 12345,\n",
            "  \"purchase_date\": \"2025-12-31\"\n",
            "}\n",
            "\n",
            "\n",
            "--- Method 2: Using model_validate_json() ---\n",
            "✅ Valid user input created directly from JSON:\n",
            "{\n",
            "  \"name\": \"Joe User\",\n",
            "  \"email\": \"joe.user@example.com\",\n",
            "  \"query\": \"I bought a keyboard and mouse and was overcharged.\",\n",
            "  \"order_id\": 12345,\n",
            "  \"purchase_date\": \"2025-12-31\"\n",
            "}\n"
          ]
        }
      ]
    },
    {
      "cell_type": "markdown",
      "source": [
        "Now, let's try `model_validate_json` with invalid data. The `order_id` `01234` is not greater than or equal to `10000`.\n",
        "\n",
        "**Note:** The following cell is expected to produce a `ValidationError`."
      ],
      "metadata": {
        "id": "qt94yXRgbmgp"
      }
    },
    {
      "cell_type": "code",
      "source": [
        "# Define an invalid JSON string (order_id is out of bounds)\n",
        "json_data_invalid = '''\n",
        "{\n",
        "    \"name\": \"Joe User\",\n",
        "    \"email\": \"joe.user@example.com\",\n",
        "    \"query\": \"My account has been locked for some reason.\",\n",
        "    \"order_id\": \"01234\",\n",
        "    \"purchase_date\": \"2025-12-31\"\n",
        "}\n",
        "'''\n",
        "\n",
        "# Parse and validate in one step, expecting an error\n",
        "try:\n",
        "    user_input = UserInput.model_validate_json(json_data_invalid)\n",
        "    print(user_input.model_dump_json(indent=2))\n",
        "except ValidationError as e:\n",
        "    print(\"--- Expected Validation Error ---\")\n",
        "    print(e)"
      ],
      "metadata": {
        "colab": {
          "base_uri": "https://localhost:8080/"
        },
        "id": "TUZa7J7gbgtY",
        "outputId": "7f0ebf41-bb54-44c4-aa56-4970bc8f8a40"
      },
      "execution_count": 19,
      "outputs": [
        {
          "output_type": "stream",
          "name": "stdout",
          "text": [
            "--- Expected Validation Error ---\n",
            "1 validation error for UserInput\n",
            "order_id\n",
            "  Input should be greater than or equal to 10000 [type=greater_than_equal, input_value='01234', input_type=str]\n",
            "    For further information visit https://errors.pydantic.dev/2.11/v/greater_than_equal\n"
          ]
        }
      ]
    },
    {
      "cell_type": "markdown",
      "source": [
        "---\n",
        "## Conclusion\n",
        "\n",
        "In this lesson, we learned how to use Pydantic models to validate user input for a customer support scenario. By defining clear data models with type hints, optional fields, and constraints, you can ensure your application only works with well-formed data. Handling validation errors gracefully makes your code more robust and reliable, setting the stage for integrating Pydantic into more advanced LLM workflows."
      ],
      "metadata": {
        "id": "WRVWEK19bqdV"
      }
    },
    {
      "cell_type": "code",
      "source": [],
      "metadata": {
        "id": "fp_k4WUIboji"
      },
      "execution_count": null,
      "outputs": []
    }
  ]
}